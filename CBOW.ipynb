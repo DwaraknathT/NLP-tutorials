{
  "nbformat": 4,
  "nbformat_minor": 0,
  "metadata": {
    "colab": {
      "name": "CBOW and Skip Grams",
      "provenance": [],
      "collapsed_sections": []
    },
    "kernelspec": {
      "name": "python3",
      "display_name": "Python 3"
    },
    "language_info": {
      "name": "python"
    },
    "accelerator": "GPU"
  },
  "cells": [
    {
      "cell_type": "code",
      "execution_count": null,
      "metadata": {
        "id": "cy5ZnYcMhat9"
      },
      "outputs": [],
      "source": [
        "!nvidia-smi"
      ]
    },
    {
      "cell_type": "code",
      "source": [
        "import torch \n",
        "import torch.nn as nn "
      ],
      "metadata": {
        "id": "R3t8sPJakMQ2"
      },
      "execution_count": null,
      "outputs": []
    },
    {
      "cell_type": "code",
      "source": [
        "raw_text = \"\"\"We are about to study the idea of a computational process.\n",
        "Computational processes are abstract beings that inhabit computers.\n",
        "As they evolve, processes manipulate other abstract things called data.\n",
        "The evolution of a process is directed by a pattern of rules\n",
        "called a program. People create programs to direct processes. In effect,\n",
        "we conjure the spirits of the computer with our spells.\"\"\""
      ],
      "metadata": {
        "id": "zcAGtlfYkJB3"
      },
      "execution_count": null,
      "outputs": []
    },
    {
      "cell_type": "code",
      "source": [
        "special_tokens = [\"<UNK>\", \"<END>\"]"
      ],
      "metadata": {
        "id": "NGdOFbPOkW5k"
      },
      "execution_count": null,
      "outputs": []
    },
    {
      "cell_type": "code",
      "source": [
        "# vocab class \n",
        "class Vocab:\n",
        "  def __init__(self, list_of_words):\n",
        "    # convert raw text into list of sentences  \n",
        "    self.total_tokens = len(list_of_words)\n",
        "    self.vocab = set(list_of_words)\n",
        "    self.vocab_size = len(self.vocab)\n",
        "    self.token2id = {word:id for id, word in enumerate(self.vocab)}\n",
        "    self.id2token = {id:word for id, word in enumerate(self.vocab)}\n",
        "    \n",
        "  def gettoken2id(self, token):\n",
        "    return self.token2id[token]\n",
        "\n",
        "  def getid2token(self, id):\n",
        "    return self.id2token[id]"
      ],
      "metadata": {
        "id": "_5uY0q-gj4MN"
      },
      "execution_count": null,
      "outputs": []
    },
    {
      "cell_type": "code",
      "source": [
        "list_of_words = raw_text.split()\n",
        "vocab = Vocab(list_of_words)"
      ],
      "metadata": {
        "id": "JwmaGBt6oyGv"
      },
      "execution_count": null,
      "outputs": []
    },
    {
      "cell_type": "code",
      "source": [
        "# Construct the dataset - pairs of [context, target word]\n",
        "dataset = []\n",
        "context_size = 2 # Number of words to look at either side \n",
        "# Loop from word with index context size to n-3 \n",
        "for i in range(context_size, vocab.total_tokens - 3):\n",
        "  context = []\n",
        "  target = list_of_words[i]\n",
        "  # Go from left to right \n",
        "  for j in range(1, context_size+1):\n",
        "    context.append(list_of_words[i-j])\n",
        "    context.append(list_of_words[i+j])\n",
        "  # Tuples of context and target \n",
        "  dataset.append((context, target))"
      ],
      "metadata": {
        "id": "nY3IV6bKlkWP"
      },
      "execution_count": null,
      "outputs": []
    },
    {
      "cell_type": "code",
      "source": [
        "# Conert the datasets to ids \n",
        "inputs, targets = [], []\n",
        "for sample in dataset:\n",
        "  context, target = sample[0], sample[1] \n",
        "  context_vector = torch.tensor([vocab.gettoken2id(word) for word in context], dtype=torch.long)\n",
        "  target_vector = torch.tensor([vocab.gettoken2id(target)], dtype=torch.long)\n",
        "  #target_vector = nn.functional.one_hot(target_vector, vocab.vocab_size) # one hot encoding \n",
        "  inputs.append(context_vector)\n",
        "  targets.append(target_vector)"
      ],
      "metadata": {
        "id": "S5mNcWT_lqda"
      },
      "execution_count": null,
      "outputs": []
    },
    {
      "cell_type": "code",
      "source": [
        "# Define the continous bag of words model \n",
        "emb_dim = 32\n",
        "hidden_dim = 64 \n",
        "vocab_size = vocab.vocab_size \n",
        "\n",
        "class CBOW(torch.nn.Module):\n",
        "  def __init__(self, vocab_size, embedding_dim):\n",
        "    super(CBOW, self).__init__()\n",
        "\n",
        "    #out: 1 x emdedding_dim\n",
        "    self.embeddings = nn.Embedding(vocab_size, embedding_dim)\n",
        "    self.linear1 = nn.Linear(embedding_dim, 128)\n",
        "    self.activation_function1 = nn.ReLU()\n",
        "    \n",
        "    #out: 1 x vocab_size\n",
        "    self.linear2 = nn.Linear(128, vocab_size)\n",
        "    self.activation_function2 = nn.LogSoftmax(dim = -1)\n",
        "      \n",
        "\n",
        "  def forward(self, inputs):\n",
        "    embeds = sum(self.embeddings(inputs)).view(1,-1)\n",
        "    out = self.linear1(embeds)\n",
        "    out = self.activation_function1(out)\n",
        "    out = self.linear2(out)\n",
        "    out = self.activation_function2(out)\n",
        "    return out\n",
        "\n",
        "model = CBOW(vocab_size, emb_dim)  "
      ],
      "metadata": {
        "id": "IbqN11YdraX1"
      },
      "execution_count": null,
      "outputs": []
    },
    {
      "cell_type": "code",
      "source": [
        "# Training stuff \n",
        "loss_fn = nn.NLLLoss() \n",
        "optim = torch.optim.SGD(model.parameters(), lr=0.001)\n",
        "\n",
        "# train mode\n",
        "model.train()\n",
        "# training loop\n",
        "for epoch in range(50):\n",
        "  count = 0 \n",
        "  total_loss = 0 \n",
        "  for input, target in zip(inputs, targets):\n",
        "    count += 1 \n",
        "    model.zero_grad(set_to_none=True)\n",
        "    output = model(input) \n",
        "    loss = loss_fn(output, target)\n",
        "    total_loss += loss.item()\n",
        "    loss.backward() \n",
        "    optim.step()\n",
        "  print(\"Average Loss: {:.4f}\".format(total_loss / count))"
      ],
      "metadata": {
        "id": "Xi1uBfQNzXE7"
      },
      "execution_count": null,
      "outputs": []
    },
    {
      "cell_type": "code",
      "source": [
        "#TESTING\n",
        "context = ['People','create','to', 'direct']\n",
        "context_vector = torch.tensor([vocab.gettoken2id(word) for word in context], dtype=torch.long)\n",
        "a = model(context_vector)\n",
        "#Print result\n",
        "print(f'Context: {context}\\n')\n",
        "print(f'Prediction: {vocab.getid2token(torch.argmax(a[0]).item())}')"
      ],
      "metadata": {
        "id": "oT6CYgDx7SN0"
      },
      "execution_count": null,
      "outputs": []
    }
  ]
}